{
 "cells": [
  {
   "cell_type": "markdown",
   "metadata": {},
   "source": [
    "<div class=\"alert alert-block alert-info\">\n",
    "<center>Métodos Numéricos</center>\n",
    "<center>PROJETO I</center>\n",
    "<center>ALUNO: Jhonatan Guilherme Oliveira Pereira</center>\n",
    "</div>"
   ]
  },
  {
   "cell_type": "markdown",
   "metadata": {},
   "source": [
    "### Parte 1: Implementação do Algoritmo"
   ]
  },
  {
   "cell_type": "code",
   "execution_count": 31,
   "metadata": {},
   "outputs": [],
   "source": [
    "import matplotlib.pyplot as plt\n",
    "import numpy as np\n",
    "import scipy.optimize as opt\n",
    "from scipy.stats import norm\n",
    "import time"
   ]
  },
  {
   "cell_type": "code",
   "execution_count": 23,
   "metadata": {},
   "outputs": [],
   "source": [
    "xtol = 1e-4"
   ]
  },
  {
   "cell_type": "code",
   "execution_count": 24,
   "metadata": {},
   "outputs": [],
   "source": [
    "def algorithm(f, der, a: float, b: float, esp: float=xtol, n: int=500):\n",
    "  \"\"\"\n",
    "  Args:\n",
    "    f (function): transcendental equation\n",
    "    der (functiom): derivative function of f\n",
    "    a, b (float): initial approximation of the root\n",
    "    esp (float): relative error\n",
    "    n (int): number of iteractions required\n",
    "  \"\"\"\n",
    "  if f(a) * f(b) > 0:\n",
    "    raise Exception(\"No root.\")\n",
    "  \n",
    "  previous_x = b\n",
    "  \n",
    "  for iteration in range(n):\n",
    "    x_a = f(a)\n",
    "    x_b = f(b)\n",
    "    dx_a = der(a)\n",
    "\n",
    "    x = a - (x_a / (2 * dx_a)) * ((x_a - x_b + (a - b) * dx_a) / (x_a - x_b))\n",
    "\n",
    "    error = abs((x - previous_x) / x)\n",
    "    if esp > error: break\n",
    "\n",
    "    previous_x = x\n",
    "    \n",
    "    check_a = f(x) * x_a\n",
    "    check_b = f(x) * x_b\n",
    "    if check_a < 0: x, a = a, x\n",
    "    elif check_b < 0: b = x\n",
    "\n",
    "    if np.isclose(dx_a, 0, atol=esp):\n",
    "      a, b = b, a\n",
    "  \n",
    "  return x, iteration + 1\n"
   ]
  },
  {
   "cell_type": "code",
   "execution_count": 25,
   "metadata": {},
   "outputs": [],
   "source": [
    "func = lambda x: x * np.exp(x) - np.cos(x)\n",
    "der = lambda x: np.exp(x) + x * np.exp(x) + np.sin(x)"
   ]
  },
  {
   "cell_type": "code",
   "execution_count": 26,
   "metadata": {},
   "outputs": [
    {
     "data": {
      "image/png": "[encoded data removed]",
      "text/plain": [
       "<Figure size 432x288 with 1 Axes>"
      ]
     },
     "metadata": {
      "needs_background": "light"
     },
     "output_type": "display_data"
    }
   ],
   "source": [
    "x = np.linspace(-2, 2, 200)\n",
    "plt.plot(x, func(x))\n",
    "plt.grid()"
   ]
  },
  {
   "cell_type": "code",
   "execution_count": 34,
   "metadata": {},
   "outputs": [
    {
     "data": {
      "text/plain": [
       "      converged: True\n",
       "           flag: 'converged'\n",
       " function_calls: 16\n",
       "     iterations: 14\n",
       "           root: 0.51776123046875"
      ]
     },
     "execution_count": 34,
     "metadata": {},
     "output_type": "execute_result"
    }
   ],
   "source": [
    "opt.root_scalar(func, method='bisect', bracket=[0, 1], xtol=xtol)"
   ]
  },
  {
   "cell_type": "code",
   "execution_count": 35,
   "metadata": {},
   "outputs": [
    {
     "data": {
      "text/plain": [
       "      converged: True\n",
       "           flag: 'converged'\n",
       " function_calls: 7\n",
       "     iterations: 6\n",
       "           root: 0.5177573707542169"
      ]
     },
     "execution_count": 35,
     "metadata": {},
     "output_type": "execute_result"
    }
   ],
   "source": [
    "opt.root_scalar(func, method='secant', x0=0, x1=1, xtol=xtol)"
   ]
  },
  {
   "cell_type": "code",
   "execution_count": 33,
   "metadata": {},
   "outputs": [
    {
     "data": {
      "text/plain": [
       "      converged: True\n",
       "           flag: 'converged'\n",
       " function_calls: 12\n",
       "     iterations: 6\n",
       "           root: 0.5177573636824586"
      ]
     },
     "execution_count": 33,
     "metadata": {},
     "output_type": "execute_result"
    }
   ],
   "source": [
    "opt.root_scalar(func, fprime=der, method='newton', x0=0, xtol=xtol)"
   ]
  },
  {
   "cell_type": "code",
   "execution_count": 27,
   "metadata": {},
   "outputs": [
    {
     "name": "stdout",
     "output_type": "stream",
     "text": [
      "0.5467270243544884 - 3\n"
     ]
    }
   ],
   "source": [
    "algorithm(f=func, der=der, a=0, b=1)"
   ]
  },
  {
   "cell_type": "code",
   "execution_count": 36,
   "metadata": {},
   "outputs": [],
   "source": [
    "func2 = lambda x: x * np.log10(x) - 1.2\n",
    "der2 = lambda x: np.log10(x) + (1 / np.log(10))"
   ]
  },
  {
   "cell_type": "code",
   "execution_count": 37,
   "metadata": {},
   "outputs": [
    {
     "data": {
      "image/png": "[encoded data removed]",
      "text/plain": [
       "<Figure size 432x288 with 1 Axes>"
      ]
     },
     "metadata": {
      "needs_background": "light"
     },
     "output_type": "display_data"
    }
   ],
   "source": [
    "x = np.linspace(0.1, 5, 200)\n",
    "plt.plot(x, func2(x))\n",
    "plt.grid()"
   ]
  },
  {
   "cell_type": "code",
   "execution_count": 42,
   "metadata": {},
   "outputs": [
    {
     "data": {
      "text/plain": [
       "      converged: True\n",
       "           flag: 'converged'\n",
       " function_calls: 16\n",
       "     iterations: 14\n",
       "           root: 2.74066162109375"
      ]
     },
     "execution_count": 42,
     "metadata": {},
     "output_type": "execute_result"
    }
   ],
   "source": [
    "opt.root_scalar(func2, method='bisect', bracket=[2, 3], xtol=xtol)"
   ]
  },
  {
   "cell_type": "code",
   "execution_count": 43,
   "metadata": {},
   "outputs": [
    {
     "data": {
      "text/plain": [
       "      converged: True\n",
       "           flag: 'converged'\n",
       " function_calls: 5\n",
       "     iterations: 4\n",
       "           root: 2.7406460955658867"
      ]
     },
     "execution_count": 43,
     "metadata": {},
     "output_type": "execute_result"
    }
   ],
   "source": [
    "opt.root_scalar(func2, method='secant', x0=2, x1=3, xtol=xtol)"
   ]
  },
  {
   "cell_type": "code",
   "execution_count": 44,
   "metadata": {},
   "outputs": [
    {
     "data": {
      "text/plain": [
       "      converged: True\n",
       "           flag: 'converged'\n",
       " function_calls: 6\n",
       "     iterations: 3\n",
       "           root: 2.740646095974572"
      ]
     },
     "execution_count": 44,
     "metadata": {},
     "output_type": "execute_result"
    }
   ],
   "source": [
    "opt.root_scalar(func2, fprime=der2, x0=2.5, method='newton', xtol=xtol)"
   ]
  },
  {
   "cell_type": "code",
   "execution_count": 45,
   "metadata": {},
   "outputs": [
    {
     "data": {
      "text/plain": [
       "(2.740971296543365, 3)"
      ]
     },
     "execution_count": 45,
     "metadata": {},
     "output_type": "execute_result"
    }
   ],
   "source": [
    "algorithm(func2, der2, 2, 3)"
   ]
  },
  {
   "cell_type": "markdown",
   "metadata": {},
   "source": [
    "### Parte 2: Aplicação em Problema Real"
   ]
  },
  {
   "cell_type": "code",
   "execution_count": 46,
   "metadata": {},
   "outputs": [],
   "source": [
    "S = 7.01\n",
    "K = 7.5\n",
    "r = 0.0225\n",
    "T = 6/252"
   ]
  },
  {
   "cell_type": "code",
   "execution_count": 48,
   "metadata": {},
   "outputs": [],
   "source": [
    "stdnormal = norm(loc=0, scale=1)\n",
    "phi = lambda x: stdnormal.cdf(x)"
   ]
  },
  {
   "cell_type": "code",
   "execution_count": 49,
   "metadata": {},
   "outputs": [],
   "source": [
    "def c(x):\n",
    "  d1 = (np.log(S / K) + (r + x ** 2 / 2) * T) / (x * np.sqrt(T))\n",
    "  d2 = d1 - x * np.sqrt(T)\n",
    "  \n",
    "  return S * phi(d1) - K * np.exp(-r * T) * phi(d2)"
   ]
  },
  {
   "cell_type": "code",
   "execution_count": 50,
   "metadata": {},
   "outputs": [],
   "source": [
    "def cprime(x):\n",
    "  d1 = (np.log(S / K) + (r + x ** 2 / 2) * T) / (x * np.sqrt(T))\n",
    "  d2 = d1 - x * np.sqrt(T)\n",
    "  A = (np.log(S / K) + (r + x ** 2 / 2) * T) / (np.sqrt(T) * x ** 2)\n",
    "\n",
    "  return S * (np.exp(-d1 ** 2 / 2) / np.sqrt(2 * np.pi)) * (np.sqrt(T) - A) + K * np.exp(-(r * T + d2 ** 2 / 2)) * A / np.sqrt(2 * np.pi)"
   ]
  },
  {
   "cell_type": "code",
   "execution_count": 51,
   "metadata": {},
   "outputs": [
    {
     "data": {
      "image/png": "[encoded data removed]",
      "text/plain": [
       "<Figure size 432x288 with 1 Axes>"
      ]
     },
     "metadata": {
      "needs_background": "light"
     },
     "output_type": "display_data"
    }
   ],
   "source": [
    "x = np.linspace(-1, 1, 50)\n",
    "plt.plot(x, c(x) - 0.1)\n",
    "plt.grid()"
   ]
  },
  {
   "cell_type": "code",
   "execution_count": 52,
   "metadata": {},
   "outputs": [
    {
     "data": {
      "text/plain": [
       "      converged: True\n",
       "           flag: 'converged'\n",
       " function_calls: 8\n",
       "     iterations: 4\n",
       "           root: 0.6231138398099891"
      ]
     },
     "execution_count": 52,
     "metadata": {},
     "output_type": "execute_result"
    }
   ],
   "source": [
    "func3 = lambda x: c(x) - 0.1\n",
    "opt.root_scalar(func3, fprime=cprime, x0=1, method='newton', xtol=xtol)"
   ]
  },
  {
   "cell_type": "code",
   "execution_count": 55,
   "metadata": {},
   "outputs": [
    {
     "data": {
      "text/plain": [
       "(0.6372903582130485, 3)"
      ]
     },
     "execution_count": 55,
     "metadata": {},
     "output_type": "execute_result"
    }
   ],
   "source": [
    "algorithm(func3, der=cprime, a=0.25, b=1, esp=xtol)"
   ]
  }
 ],
 "metadata": {
  "kernelspec": {
   "display_name": "Python 3.9.12 ('base')",
   "language": "python",
   "name": "python3"
  },
  "language_info": {
   "codemirror_mode": {
    "name": "ipython",
    "version": 3
   },
   "file_extension": ".py",
   "mimetype": "text/x-python",
   "name": "python",
   "nbconvert_exporter": "python",
   "pygments_lexer": "ipython3",
   "version": "3.9.12"
  },
  "orig_nbformat": 4,
  "vscode": {
   "interpreter": {
    "hash": "c684a6fc7ea5d844d0888e3fc402a914f9a0757a714c6fe2ccce21fe8443d9ca"
   }
  }
 },
 "nbformat": 4,
 "nbformat_minor": 2
}
