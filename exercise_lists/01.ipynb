{
 "cells": [
  {
   "cell_type": "markdown",
   "metadata": {},
   "source": [
    "<div class=\"alert alert-block alert-info\">\n",
    "<center><strong>MÉTODOS NUMÉRICOS</strong></center>\n",
    "<center>LISTA 01</center>\n",
    "<center>ALUNO: <strong>JHONATAN GUILHERME OLIVEIRA PEREIRA</strong></center>\n",
    "</div>"
   ]
  },
  {
   "cell_type": "markdown",
   "metadata": {},
   "source": [
    "<strong>Questão 1</strong> - Como importar a biblioteca numpy e verificar a versão utilizada?"
   ]
  },
  {
   "cell_type": "code",
   "execution_count": 45,
   "metadata": {},
   "outputs": [],
   "source": [
    "# Importando a biblioteca numpy\n",
    "import numpy as np"
   ]
  },
  {
   "cell_type": "code",
   "execution_count": 46,
   "metadata": {},
   "outputs": [
    {
     "data": {
      "text/plain": [
       "'1.20.3'"
      ]
     },
     "execution_count": 46,
     "metadata": {},
     "output_type": "execute_result"
    }
   ],
   "source": [
    "# Verificando a versão utilizada da biblioteca\n",
    "np.__version__"
   ]
  },
  {
   "cell_type": "markdown",
   "metadata": {},
   "source": [
    "<strong>Questão 2</strong> - Explique, com suas palavras, os conceitos de vetorização e <i>broadcasting</i> que Numpy implementa."
   ]
  },
  {
   "cell_type": "markdown",
   "metadata": {},
   "source": [
    "O processo de vetorização funciona de forma que, em um conjunto de operações dentro de um vetor, a CPU tentaria \"reduzir\" o tempo de execução realizando os cálculos mais vezes que simplesmente uma operação por vez. Por exemplo, em uma multiplicação de arrays, as operações enviadas para o hardware seriam reescritas para maior eficiência, possibilitando que múltiplos elementos fossem multiplicados simultaneamente."
   ]
  },
  {
   "cell_type": "markdown",
   "metadata": {},
   "source": [
    "O broadcasting Numpy descreve como as operações em vetores devem ser realizadas internamente, principalmente quando há tamanhos de vetores diferentes. Assim, esse conceito permitiria que as formas de tamanho menor, fossem reajustadas para o tamanho maior, permitindo a operação normalmente. A soma ou multiplicação entre vetores pelo Numpy possibilita que ambos os vetores utilizados possuam formas diferentes, por o broadcasting flexibizar os vetores para que as operações possam ser feitas normalmente."
   ]
  },
  {
   "cell_type": "markdown",
   "metadata": {},
   "source": [
    "<strong>Questão 3</strong> - Liste as diferenças entre uma lista, um dicionário, um array numpy, dando exemplos de aplicação de em que cada tipo seria mais interessante."
   ]
  },
  {
   "cell_type": "markdown",
   "metadata": {},
   "source": [
    "Uma lista Python consiste em múltiplos elementos de tipos variados que são armazenados de forma sequencial, onde a ordem importa. Um dicionário Python já armazenaria esses valores de forma desordenada, já que o acesso aos elementos é feito por chaves e não por posições. Um array numpy unifica os tipos dos elementos, convertendo sempre para o tipo presente de maior flexibilidade. Por exemplo, se há diversos elementos inteiros e ao menos um elemento flutuante, os demais elementos serão convertidos para flutuantes também.\n",
    "\n",
    "As listas Python devem ser utilizadas em contexto onde as informações são mais flexíveis, já que há essa possibilidade de armazenamento de tipos variados, então podemos armazenar dados como idade de participantes de uma determinada competição, para que esses dados possam ser utilizados para cálculos simples de média, por exemplo. Um dicionário já armazenaria esses dados ligados por chaves, então o acesso a eles seria de forma não sequencial. Então, caso haja uma aplicação onde há um dado ligado a cada CPF de todas as pessoas cadastradas, o dicionário poderia servir de forma que se tem a chave sendo o CPF da pessoa ligada com a informação, ou valor, que foi estabelecido para cada pessoa. Assim, por fim, o array numpy possui mais recursos quando se trata de operações em larga escala, onde o processo de soma, multiplicação ou demais operações são feitas de forma mais rápida e eficiente, de maneira geral. Então, a utilização de dados numéricos que necessitam de cálculos para apresentação, tornaria a opção de array numpy como melhor escolha. Como exemplo, podemos utilizar dados financeiros de uma grande empresa, e que se deseja saber a soma de salário de todos os funcionários, divididos por departamentos. Então se utilizaria arrays Numpy para armazenar esses dados e realizar as devidas somas para obter o resultado final."
   ]
  },
  {
   "cell_type": "markdown",
   "metadata": {},
   "source": [
    "<strong>Questão 4</strong> - Forma a matriz <br>\n",
    "$[[1, 6, 11]$<br>\n",
    " $[2, 7, 12]$<br>\n",
    " $[3, 8, 13]$<br>\n",
    " $[4, 9, 14]$<br>\n",
    " $[5, 10, 15]]$<br>\n",
    " usando lista e <i>array</i> Numpy."
   ]
  },
  {
   "cell_type": "code",
   "execution_count": 47,
   "metadata": {},
   "outputs": [
    {
     "data": {
      "text/plain": [
       "[[1, 6, 11], [2, 7, 12], [3, 8, 13], [4, 9, 14], [5, 10, 15]]"
      ]
     },
     "execution_count": 47,
     "metadata": {},
     "output_type": "execute_result"
    }
   ],
   "source": [
    "# Utilizando lista Python\n",
    "[[1, 6, 11], [2, 7, 12], [3, 8, 13], [4, 9, 14], [5, 10, 15]]"
   ]
  },
  {
   "cell_type": "code",
   "execution_count": 48,
   "metadata": {},
   "outputs": [
    {
     "data": {
      "text/plain": [
       "array([[ 1,  6, 11],\n",
       "       [ 2,  7, 12],\n",
       "       [ 3,  8, 13],\n",
       "       [ 4,  9, 14],\n",
       "       [ 5, 10, 15]])"
      ]
     },
     "execution_count": 48,
     "metadata": {},
     "output_type": "execute_result"
    }
   ],
   "source": [
    "# Utilizando array Numpy\n",
    "np.arange(1, 16).reshape((3, 5)).transpose()"
   ]
  },
  {
   "cell_type": "markdown",
   "metadata": {},
   "source": [
    "<strong>Questão 5</strong> - Usando numpy, crie:<br>"
   ]
  },
  {
   "cell_type": "markdown",
   "metadata": {},
   "source": [
    "(a) um vetor de 10 elementos entre 1 e 20<br>"
   ]
  },
  {
   "cell_type": "code",
   "execution_count": 49,
   "metadata": {},
   "outputs": [
    {
     "data": {
      "text/plain": [
       "array([18, 10, 19, 18,  7, 19,  1, 11, 15,  3])"
      ]
     },
     "execution_count": 49,
     "metadata": {},
     "output_type": "execute_result"
    }
   ],
   "source": [
    "np.random.randint(1, 20, size=(10))"
   ]
  },
  {
   "cell_type": "markdown",
   "metadata": {},
   "source": [
    "(b) um vetor entre 1 e 20, com passo de 2<br>"
   ]
  },
  {
   "cell_type": "code",
   "execution_count": 50,
   "metadata": {},
   "outputs": [
    {
     "data": {
      "text/plain": [
       "array([ 1,  3,  5,  7,  9, 11, 13, 15, 17, 19])"
      ]
     },
     "execution_count": 50,
     "metadata": {},
     "output_type": "execute_result"
    }
   ],
   "source": [
    "np.arange(1, 20, 2)"
   ]
  },
  {
   "cell_type": "markdown",
   "metadata": {},
   "source": [
    "(c) uma matriz de 3x3 cujos elementos da diagonal sejam o vetor [1, 2, 3] e os demais sejam todos 0."
   ]
  },
  {
   "cell_type": "code",
   "execution_count": 51,
   "metadata": {},
   "outputs": [
    {
     "data": {
      "text/plain": [
       "array([[1, 0, 0],\n",
       "       [0, 2, 0],\n",
       "       [0, 0, 3]])"
      ]
     },
     "execution_count": 51,
     "metadata": {},
     "output_type": "execute_result"
    }
   ],
   "source": [
    "matrix = np.zeros((3, 3), dtype=int)\n",
    "for i in range(3):\n",
    "  matrix[i][i] = i + 1\n",
    "\n",
    "matrix"
   ]
  },
  {
   "cell_type": "markdown",
   "metadata": {},
   "source": [
    "<strong>Questão 6</strong> - Considere a lista [-2, 4., '7', 9] e crie um array Numpy a partir dessa lista. Houve uma mudança no tipo de vários elementos. Explique com suas palavras porque isso aconteceu. Se o elemento '7' for escrito como inteiro, o que muda na saída e por que?"
   ]
  },
  {
   "cell_type": "code",
   "execution_count": 52,
   "metadata": {},
   "outputs": [
    {
     "data": {
      "text/plain": [
       "array(['-2', '4.0', '7', '9'], dtype='<U32')"
      ]
     },
     "execution_count": 52,
     "metadata": {},
     "output_type": "execute_result"
    }
   ],
   "source": [
    "np.array([-2, 4., '7', 9])"
   ]
  },
  {
   "cell_type": "markdown",
   "metadata": {},
   "source": [
    "Ao criar um array numpy, ele automaticamente realiza a conversão dos tipos de todos os dados para o tipo mais \"generalizado\". Dessa forma, temos um resultado de tipo para string, pois ele irá iniciar pelo 7, onde nativamente já é uma string e suportando todos os demais números, transformando todos para string também."
   ]
  },
  {
   "cell_type": "code",
   "execution_count": 53,
   "metadata": {},
   "outputs": [
    {
     "data": {
      "text/plain": [
       "array([-2.,  4.,  7.,  9.])"
      ]
     },
     "execution_count": 53,
     "metadata": {},
     "output_type": "execute_result"
    }
   ],
   "source": [
    "np.array([-2, 4., 7, 9])"
   ]
  },
  {
   "cell_type": "markdown",
   "metadata": {},
   "source": [
    "Agora, alterando o 7 para o tipo int, o resultado é diferente. Como não há nenhuma ocorrência de string, a conversão será feita para o tipo que maior abrange todos os elementos, dessa vez o float. Pois, como há o elemento 4.0, ele precisa ser recebido como o seu devido tipo, assim, convertendo todos os outros inteiros para float também."
   ]
  },
  {
   "cell_type": "code",
   "execution_count": 54,
   "metadata": {},
   "outputs": [
    {
     "data": {
      "text/plain": [
       "dtype('float64')"
      ]
     },
     "execution_count": 54,
     "metadata": {},
     "output_type": "execute_result"
    }
   ],
   "source": [
    "np.dtype(np.array([-2, 4., 7, 9])[0])"
   ]
  },
  {
   "cell_type": "markdown",
   "metadata": {},
   "source": [
    "<strong>Questão 7</strong> - Crie um vetor A com valores variando de 10 à 49, um vetor B variando de 1 à 39 e um vetor C de 10 à 20. Então realize e comente a saída das seguintes operações:"
   ]
  },
  {
   "cell_type": "code",
   "execution_count": 55,
   "metadata": {},
   "outputs": [],
   "source": [
    "A = np.arange(10, 49)\n",
    "B = np.arange(1, 39)\n",
    "C = np.arange(10, 20)"
   ]
  },
  {
   "cell_type": "code",
   "execution_count": 56,
   "metadata": {},
   "outputs": [
    {
     "data": {
      "text/plain": [
       "array([10, 11, 12, 13, 14, 15, 16, 17, 18, 19, 20, 21, 22, 23, 24, 25, 26,\n",
       "       27, 28, 29, 30, 31, 32, 33, 34, 35, 36, 37, 38, 39, 40, 41, 42, 43,\n",
       "       44, 45, 46, 47, 48])"
      ]
     },
     "execution_count": 56,
     "metadata": {},
     "output_type": "execute_result"
    }
   ],
   "source": [
    "A"
   ]
  },
  {
   "cell_type": "code",
   "execution_count": 57,
   "metadata": {},
   "outputs": [
    {
     "data": {
      "text/plain": [
       "array([ 1,  2,  3,  4,  5,  6,  7,  8,  9, 10, 11, 12, 13, 14, 15, 16, 17,\n",
       "       18, 19, 20, 21, 22, 23, 24, 25, 26, 27, 28, 29, 30, 31, 32, 33, 34,\n",
       "       35, 36, 37, 38])"
      ]
     },
     "execution_count": 57,
     "metadata": {},
     "output_type": "execute_result"
    }
   ],
   "source": [
    "B"
   ]
  },
  {
   "cell_type": "code",
   "execution_count": 58,
   "metadata": {},
   "outputs": [
    {
     "data": {
      "text/plain": [
       "array([10, 11, 12, 13, 14, 15, 16, 17, 18, 19])"
      ]
     },
     "execution_count": 58,
     "metadata": {},
     "output_type": "execute_result"
    }
   ],
   "source": [
    "C"
   ]
  },
  {
   "cell_type": "markdown",
   "metadata": {},
   "source": [
    "(a) $A + B$<br>"
   ]
  },
  {
   "cell_type": "code",
   "execution_count": 59,
   "metadata": {},
   "outputs": [
    {
     "ename": "ValueError",
     "evalue": "operands could not be broadcast together with shapes (39,) (38,) ",
     "output_type": "error",
     "traceback": [
      "\u001b[1;31m---------------------------------------------------------------------------\u001b[0m",
      "\u001b[1;31mValueError\u001b[0m                                Traceback (most recent call last)",
      "\u001b[1;32mC:\\Users\\JHONAT~1\\AppData\\Local\\Temp/ipykernel_18904/3997367316.py\u001b[0m in \u001b[0;36m<module>\u001b[1;34m\u001b[0m\n\u001b[1;32m----> 1\u001b[1;33m \u001b[0mnp\u001b[0m\u001b[1;33m.\u001b[0m\u001b[0madd\u001b[0m\u001b[1;33m(\u001b[0m\u001b[0mA\u001b[0m\u001b[1;33m,\u001b[0m \u001b[0mB\u001b[0m\u001b[1;33m)\u001b[0m\u001b[1;33m\u001b[0m\u001b[1;33m\u001b[0m\u001b[0m\n\u001b[0m",
      "\u001b[1;31mValueError\u001b[0m: operands could not be broadcast together with shapes (39,) (38,) "
     ]
    }
   ],
   "source": [
    "np.add(A, B)"
   ]
  },
  {
   "cell_type": "markdown",
   "metadata": {},
   "source": [
    "Na operação A + B, é executada a soma entre os arrays, mas é gerado um erro no processo. O que acontece é que o Numpy não consegue realizar o processo de broadcast, pois os dois arrays possuem formas distintas e não flexíveis para que possam interagir por soma. O tamanho do array A é de 39 elementos e o array B é de 38 elementos."
   ]
  },
  {
   "cell_type": "markdown",
   "metadata": {},
   "source": [
    "\n",
    "(b) $A * B$"
   ]
  },
  {
   "cell_type": "code",
   "execution_count": null,
   "metadata": {},
   "outputs": [
    {
     "ename": "ValueError",
     "evalue": "operands could not be broadcast together with shapes (39,) (38,) ",
     "output_type": "error",
     "traceback": [
      "\u001b[1;31m---------------------------------------------------------------------------\u001b[0m",
      "\u001b[1;31mValueError\u001b[0m                                Traceback (most recent call last)",
      "\u001b[1;32mC:\\Users\\JHONAT~1\\AppData\\Local\\Temp/ipykernel_18904/959737665.py\u001b[0m in \u001b[0;36m<module>\u001b[1;34m\u001b[0m\n\u001b[1;32m----> 1\u001b[1;33m \u001b[0mnp\u001b[0m\u001b[1;33m.\u001b[0m\u001b[0mmultiply\u001b[0m\u001b[1;33m(\u001b[0m\u001b[0mA\u001b[0m\u001b[1;33m,\u001b[0m \u001b[0mB\u001b[0m\u001b[1;33m)\u001b[0m\u001b[1;33m\u001b[0m\u001b[1;33m\u001b[0m\u001b[0m\n\u001b[0m",
      "\u001b[1;31mValueError\u001b[0m: operands could not be broadcast together with shapes (39,) (38,) "
     ]
    }
   ],
   "source": [
    "np.multiply(A, B)"
   ]
  },
  {
   "cell_type": "markdown",
   "metadata": {},
   "source": [
    "Na operação A * B, é executada a multiplicação entre os arrays, mas é gerado um erro no processo. O que acontece é que o Numpy não consegue realizar o processo de broadcast, pois os dois arrays possuem formas distintas e não flexíveis para que possam interagir por multiplicação. O tamanho do array A é de 39 elementos e o array B é de 38 elementos."
   ]
  },
  {
   "cell_type": "markdown",
   "metadata": {},
   "source": [
    "(c) $A + C$<br>"
   ]
  },
  {
   "cell_type": "code",
   "execution_count": null,
   "metadata": {},
   "outputs": [
    {
     "ename": "ValueError",
     "evalue": "operands could not be broadcast together with shapes (39,) (10,) ",
     "output_type": "error",
     "traceback": [
      "\u001b[1;31m---------------------------------------------------------------------------\u001b[0m",
      "\u001b[1;31mValueError\u001b[0m                                Traceback (most recent call last)",
      "\u001b[1;32mC:\\Users\\JHONAT~1\\AppData\\Local\\Temp/ipykernel_18904/992056414.py\u001b[0m in \u001b[0;36m<module>\u001b[1;34m\u001b[0m\n\u001b[1;32m----> 1\u001b[1;33m \u001b[0mnp\u001b[0m\u001b[1;33m.\u001b[0m\u001b[0madd\u001b[0m\u001b[1;33m(\u001b[0m\u001b[0mA\u001b[0m\u001b[1;33m,\u001b[0m \u001b[0mC\u001b[0m\u001b[1;33m)\u001b[0m\u001b[1;33m\u001b[0m\u001b[1;33m\u001b[0m\u001b[0m\n\u001b[0m",
      "\u001b[1;31mValueError\u001b[0m: operands could not be broadcast together with shapes (39,) (10,) "
     ]
    }
   ],
   "source": [
    "np.add(A, C)"
   ]
  },
  {
   "cell_type": "markdown",
   "metadata": {},
   "source": [
    "Na operação A + C, é executada a soma entre os arrays, mas é gerado um erro no processo. O que acontece é que o Numpy não consegue realizar o processo de broadcast, pois os dois arrays possuem formas distintas e não flexíveis para que possam interagir por soma. O tamanho do array A é de 39 elementos e o array C é de 10 elementos."
   ]
  },
  {
   "cell_type": "markdown",
   "metadata": {},
   "source": [
    "(d) $B * C$"
   ]
  },
  {
   "cell_type": "code",
   "execution_count": null,
   "metadata": {},
   "outputs": [
    {
     "ename": "ValueError",
     "evalue": "operands could not be broadcast together with shapes (38,) (10,) ",
     "output_type": "error",
     "traceback": [
      "\u001b[1;31m---------------------------------------------------------------------------\u001b[0m",
      "\u001b[1;31mValueError\u001b[0m                                Traceback (most recent call last)",
      "\u001b[1;32mC:\\Users\\JHONAT~1\\AppData\\Local\\Temp/ipykernel_18904/1184244547.py\u001b[0m in \u001b[0;36m<module>\u001b[1;34m\u001b[0m\n\u001b[1;32m----> 1\u001b[1;33m \u001b[0mnp\u001b[0m\u001b[1;33m.\u001b[0m\u001b[0mmultiply\u001b[0m\u001b[1;33m(\u001b[0m\u001b[0mB\u001b[0m\u001b[1;33m,\u001b[0m \u001b[0mC\u001b[0m\u001b[1;33m)\u001b[0m\u001b[1;33m\u001b[0m\u001b[1;33m\u001b[0m\u001b[0m\n\u001b[0m",
      "\u001b[1;31mValueError\u001b[0m: operands could not be broadcast together with shapes (38,) (10,) "
     ]
    }
   ],
   "source": [
    "np.multiply(B, C)"
   ]
  },
  {
   "cell_type": "markdown",
   "metadata": {},
   "source": [
    "Na operação B * C, é executada a multiplicação entre os arrays, mas é gerado um erro no processo. O que acontece é que o Numpy não consegue realizar o processo de broadcast, pois os dois arrays possuem formas distintas e não flexíveis para que possam interagir por multiplicação. O tamanho do array B é de 38 elementos e o array C é de 10 elementos."
   ]
  },
  {
   "cell_type": "markdown",
   "metadata": {},
   "source": [
    "<strong>Questão 8</strong> - Crie uma matrix 3 x 3, com elementos variando de 0 à 8."
   ]
  },
  {
   "cell_type": "code",
   "execution_count": null,
   "metadata": {},
   "outputs": [
    {
     "data": {
      "text/plain": [
       "array([[5, 3, 7],\n",
       "       [0, 1, 4],\n",
       "       [4, 5, 3]])"
      ]
     },
     "execution_count": 19,
     "metadata": {},
     "output_type": "execute_result"
    }
   ],
   "source": [
    "np.random.randint(8, size=(3, 3))"
   ]
  },
  {
   "cell_type": "markdown",
   "metadata": {},
   "source": [
    "<strong>Questão 9</strong> - Crie uma matriz 3 x 3 x 3 com elementos aleatórios."
   ]
  },
  {
   "cell_type": "code",
   "execution_count": null,
   "metadata": {},
   "outputs": [
    {
     "data": {
      "text/plain": [
       "array([[[59, 12, 76],\n",
       "        [92, 11, 56],\n",
       "        [41, 45, 28]],\n",
       "\n",
       "       [[ 9, 25, 56],\n",
       "        [67, 10, 21],\n",
       "        [47, 16, 80]],\n",
       "\n",
       "       [[31, 53, 55],\n",
       "        [86, 20, 86],\n",
       "        [74, 37, 43]]])"
      ]
     },
     "execution_count": 20,
     "metadata": {},
     "output_type": "execute_result"
    }
   ],
   "source": [
    "np.random.randint(100, size=(27)).reshape((3, 3, 3))"
   ]
  },
  {
   "cell_type": "markdown",
   "metadata": {},
   "source": [
    "<strong>Questão 10</strong> - Usando a função $sin$ do numpy, e a função $plot$ da matplotlib, módulo de geração de gráficos, plote um gráfico contendo os dois primeiros períodos de uma senóide."
   ]
  },
  {
   "cell_type": "code",
   "execution_count": null,
   "metadata": {},
   "outputs": [
    {
     "data": {
      "image/png": "[encoded data removed]",
      "text/plain": [
       "<Figure size 432x288 with 1 Axes>"
      ]
     },
     "metadata": {
      "needs_background": "light"
     },
     "output_type": "display_data"
    }
   ],
   "source": [
    "import matplotlib.pyplot as plt\n",
    "x = np.linspace(0, np.pi * 4)\n",
    "plt.plot(x, np.sin(x))\n",
    "plt.xlabel('Ângulo')\n",
    "plt.ylabel('sin(x)')\n",
    "plt.axis('tight')\n",
    "plt.show()"
   ]
  }
 ],
 "metadata": {
  "kernelspec": {
   "display_name": "Python 3",
   "language": "python",
   "name": "python3"
  },
  "language_info": {
   "codemirror_mode": {
    "name": "ipython",
    "version": 3
   },
   "file_extension": ".py",
   "mimetype": "text/x-python",
   "name": "python",
   "nbconvert_exporter": "python",
   "pygments_lexer": "ipython3",
   "version": "3.9.7"
  }
 },
 "nbformat": 4,
 "nbformat_minor": 4
}
