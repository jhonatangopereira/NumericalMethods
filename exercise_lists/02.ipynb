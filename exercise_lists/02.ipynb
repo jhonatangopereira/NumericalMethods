{
 "cells": [
  {
   "cell_type": "markdown",
   "metadata": {},
   "source": [
    "<div class=\"alert alert-block alert-info\">\n",
    "<center><strong>MÉTODOS NUMÉRICOS</strong></center>\n",
    "<center>LISTA 02</center>\n",
    "<center>ALUNO: <strong>JHONATAN GUILHERME OLIVEIRA PEREIRA</strong></center>\n",
    "</div>"
   ]
  },
  {
   "cell_type": "code",
   "execution_count": 77,
   "metadata": {},
   "outputs": [],
   "source": [
    "import matplotlib.pyplot as plt\n",
    "import numpy as np"
   ]
  },
  {
   "cell_type": "markdown",
   "metadata": {},
   "source": [
    "<strong>Questão 1.1</strong> - O método “divisão e média”, um método antigo para estimação de raiz\n",
    "quadrada de um número positivo a. Calcule o erro relativo da aproximação para as 10 primeiras iterações."
   ]
  },
  {
   "cell_type": "code",
   "execution_count": 78,
   "metadata": {},
   "outputs": [
    {
     "name": "stdout",
     "output_type": "stream",
     "text": [
      "0.9862068965517241\n",
      "0.9466691356881627\n",
      "0.8118936453452327\n",
      "0.49161484021073765\n",
      "0.1374527157458449\n",
      "0.009536714292150085\n",
      "4.547652776551634e-05\n",
      "1.0340572842437723e-09\n",
      "0.0\n",
      "0.0\n"
     ]
    }
   ],
   "source": [
    "numero = valorMedido = valorReal = 144\n",
    "for i in range(10):\n",
    "  valorReal = valorMedido\n",
    "  valorMedido = (valorReal + numero / valorReal) / 2\n",
    "  erro = np.abs(valorMedido - valorReal) / valorMedido\n",
    "  print(erro)"
   ]
  },
  {
   "cell_type": "markdown",
   "metadata": {},
   "source": [
    "<strong>Questão 1.2</strong> - Para computadores, o épsilon da máquina, ε, pode ser definido como o menor número que, adicionado a um, retorna um número maior que um, como definimos anteriormente. Usando o algoritmo abaixo, implemente um programa que calcula o épsilon da sua máquina."
   ]
  },
  {
   "cell_type": "code",
   "execution_count": 79,
   "metadata": {},
   "outputs": [
    {
     "name": "stdout",
     "output_type": "stream",
     "text": [
      "2.220446049250313e-16\n"
     ]
    }
   ],
   "source": [
    "e = 1\n",
    "\n",
    "while True:\n",
    "  if 1 + e <= 1:\n",
    "    e = 2 * e\n",
    "    break\n",
    "  e /= 2\n",
    "  \n",
    "print(e)"
   ]
  },
  {
   "cell_type": "markdown",
   "metadata": {},
   "source": [
    "<strong>Questão 1.3</strong> - Implemente essa série iterativa, verificando se a convergência de fato ocorre e justifique o resultado obtido."
   ]
  },
  {
   "cell_type": "code",
   "execution_count": 80,
   "metadata": {},
   "outputs": [
    {
     "name": "stdout",
     "output_type": "stream",
     "text": [
      "0.3333333333333333\n",
      "0.33333333333333326\n",
      "0.33333333333333326\n"
     ]
    }
   ],
   "source": [
    "x = 0\n",
    "for i in range(1, 4):\n",
    "  if i == 1:\n",
    "    print(1 / 3)\n",
    "  else:\n",
    "    print(4 * (1 / 3) - 1)"
   ]
  },
  {
   "cell_type": "markdown",
   "metadata": {},
   "source": [
    "Há uma pequena divergência entre os valores obtidos pela divisão de _1 / 3_ e _4 * (1 / 3) - 1_, resultando em diferenças mínimas de algumas casas decimais resultado da operação adicional que há na segunda parte, onde é feita a multiplicação por 4, e após isso decrescendo um do resultado. Após isso, todos os próximos valores da série iterativa serão exatamente iguais ao segundo, já que são valores constantes na equação."
   ]
  },
  {
   "cell_type": "markdown",
   "metadata": {},
   "source": [
    "<strong>Questão 1.4</strong> - Qual dessas expressões é mais adequada quando µ é um número pequeno? Por quê?"
   ]
  },
  {
   "cell_type": "code",
   "execution_count": 81,
   "metadata": {},
   "outputs": [
    {
     "name": "stdout",
     "output_type": "stream",
     "text": [
      "Primeira função: \n",
      " 0.9999546021312976 / 1.0 / nan / nan\n",
      "Segunda função: \n",
      " 0.9999546021312976 / 1.0 / 1.0 / 1.0\n"
     ]
    },
    {
     "name": "stderr",
     "output_type": "stream",
     "text": [
      "C:\\Users\\John\\AppData\\Local\\Temp/ipykernel_9060/4208570435.py:2: RuntimeWarning: overflow encountered in exp\n",
      "  return np.exp(1 / u) / (1 + np.exp(1 / u))\n",
      "C:\\Users\\John\\AppData\\Local\\Temp/ipykernel_9060/4208570435.py:2: RuntimeWarning: invalid value encountered in double_scalars\n",
      "  return np.exp(1 / u) / (1 + np.exp(1 / u))\n"
     ]
    }
   ],
   "source": [
    "def firstFunction(u):\n",
    "      return np.exp(1 / u) / (1 + np.exp(1 / u))\n",
    "\n",
    "def secondFunction(u):\n",
    "      return 1 / (np.exp(-1 / u) + 1)\n",
    "\n",
    "print(f\"Primeira função: \\n {firstFunction(0.1)} / {firstFunction(0.01)} / {firstFunction(0.001)} / {firstFunction(0.0001)}\")\n",
    "\n",
    "print(f\"Segunda função: \\n {secondFunction(0.1)} / {secondFunction(0.01)} / {secondFunction(0.001)} / {secondFunction(0.0001)}\")"
   ]
  },
  {
   "cell_type": "markdown",
   "metadata": {},
   "source": [
    "A segunda função é a mais adequada pois suporta bem mais valores que a primeira. Observando os resultados da primeira função, foi identificado que a primeira gerou problemas de overflow após executar com o µ = 0,001."
   ]
  },
  {
   "cell_type": "markdown",
   "metadata": {},
   "source": [
    "<strong>Questão 1.5</strong> - Compare os resultados com o resultado analítico e explique-os."
   ]
  },
  {
   "cell_type": "code",
   "execution_count": 93,
   "metadata": {},
   "outputs": [
    {
     "name": "stdout",
     "output_type": "stream",
     "text": [
      "1.000088900582341\n",
      "1.1102230246251565\n",
      "0.0\n"
     ]
    }
   ],
   "source": [
    "def function(x):\n",
    "  return ((1 + x) - 1) / x\n",
    "\n",
    "arr = [function(10**-12), function(10**-15), function(10**-17)]\n",
    "for i in arr:\n",
    "  print(i)"
   ]
  },
  {
   "cell_type": "markdown",
   "metadata": {},
   "source": [
    "Através dos valores obtidos, é possível observar que a máquina não suporta tão bem os valores pequenos gerados por _10 ** -12_ em diante, o que acaba gerando algumas pequenas divergências do resultado esperado, que seria 1. Então, é entendido que o problema é que o ε da máquina não suporta tão bem os números submetidos, até que, a partir de _10 ** -17_, o resultado se dá como 0, pois, é gerado um problema de underflow, onde as casas decimais são tão baixas que o arredondamento não consegue ser feito corretamente pela máquina."
   ]
  },
  {
   "cell_type": "markdown",
   "metadata": {},
   "source": [
    "<strong>Questão 1.6</strong> - Existem diferentes métodos para calcular aproximadamente o valor de π\n",
    "computacionalmente. Vários desses métodos usam a aproximação por séries de Taylor para\n",
    "o arcotangente..."
   ]
  },
  {
   "cell_type": "code",
   "execution_count": 82,
   "metadata": {},
   "outputs": [],
   "source": [
    "def arctan(x, n):\n",
    "  res = 0\n",
    "  for i in range(n + 1):\n",
    "    res += (-1)**i * ((x**(2 * i + 1)) / (2 * i + 1))\n",
    "  return res"
   ]
  },
  {
   "cell_type": "code",
   "execution_count": 86,
   "metadata": {},
   "outputs": [],
   "source": [
    "def calcularErroRelativo(arr):\n",
    "  erroRelativo = np.array([])\n",
    "  valorMedido = valorReal = 0\n",
    "  for i in arr:\n",
    "    valorMedido = valorReal\n",
    "    valorReal = i\n",
    "    erroRelativo = np.append(erroRelativo, np.abs(valorReal - valorMedido) / valorReal)\n",
    "  return erroRelativo"
   ]
  },
  {
   "cell_type": "markdown",
   "metadata": {},
   "source": [
    "a) Fórmula de Machin"
   ]
  },
  {
   "cell_type": "code",
   "execution_count": 87,
   "metadata": {},
   "outputs": [
    {
     "data": {
      "image/png": "[encoded data removed]",
      "text/plain": [
       "<Figure size 432x288 with 1 Axes>"
      ]
     },
     "metadata": {
      "needs_background": "light"
     },
     "output_type": "display_data"
    }
   ],
   "source": [
    "machinFormula = np.array([])\n",
    "for i in range(1, 21):\n",
    "  machinFormula = np.append(machinFormula, 4 * (4 * arctan(1 / 5, i) - arctan(1 / 239, i)))\n",
    "\n",
    "erroRelativoMachinFormula = calcularErroRelativo(machinFormula)\n",
    "\n",
    "plt.plot(erroRelativoMachinFormula)\n",
    "plt.grid(True)"
   ]
  },
  {
   "cell_type": "markdown",
   "metadata": {},
   "source": [
    "b) Fórmula de Hutton"
   ]
  },
  {
   "cell_type": "code",
   "execution_count": 88,
   "metadata": {},
   "outputs": [
    {
     "data": {
      "image/png": "[encoded data removed]",
      "text/plain": [
       "<Figure size 432x288 with 1 Axes>"
      ]
     },
     "metadata": {
      "needs_background": "light"
     },
     "output_type": "display_data"
    }
   ],
   "source": [
    "huttonFormula = np.array([])\n",
    "for i in range(1, 21):\n",
    "  huttonFormula = np.append(huttonFormula, 4 * (arctan(1 / 2, i) + arctan(1 / 3, i)))\n",
    "\n",
    "erroRelativoHuttonFormula = calcularErroRelativo(huttonFormula)\n",
    "\n",
    "plt.plot(erroRelativoHuttonFormula)\n",
    "plt.grid(True)"
   ]
  },
  {
   "cell_type": "markdown",
   "metadata": {},
   "source": [
    "c) Fórmula de Clausen"
   ]
  },
  {
   "cell_type": "code",
   "execution_count": 89,
   "metadata": {},
   "outputs": [
    {
     "data": {
      "image/png": "[encoded data removed]",
      "text/plain": [
       "<Figure size 432x288 with 1 Axes>"
      ]
     },
     "metadata": {
      "needs_background": "light"
     },
     "output_type": "display_data"
    }
   ],
   "source": [
    "clausenFormula = np.array([])\n",
    "for i in range(1, 21):\n",
    "  clausenFormula = np.append(clausenFormula, 4 * (2 * arctan(1 / 3, i) + arctan(1 / 7, i)))\n",
    "\n",
    "erroRelativoClausenFormula = calcularErroRelativo(clausenFormula)\n",
    "\n",
    "plt.plot(erroRelativoClausenFormula)\n",
    "plt.grid(True)"
   ]
  },
  {
   "cell_type": "markdown",
   "metadata": {},
   "source": [
    "d) Fórmula de Dase"
   ]
  },
  {
   "cell_type": "code",
   "execution_count": 90,
   "metadata": {},
   "outputs": [
    {
     "data": {
      "image/png": "[encoded data removed]",
      "text/plain": [
       "<Figure size 432x288 with 1 Axes>"
      ]
     },
     "metadata": {
      "needs_background": "light"
     },
     "output_type": "display_data"
    }
   ],
   "source": [
    "clausenFormula = np.array([])\n",
    "for i in range(1, 21):\n",
    "  clausenFormula = np.append(clausenFormula, 4 * (arctan(1 / 2, i) + arctan(1 / 5, i) + arctan(1 / 8, i)))\n",
    "\n",
    "erroRelativoDaseFormula = calcularErroRelativo(clausenFormula)\n",
    "\n",
    "plt.plot(erroRelativoDaseFormula)\n",
    "plt.grid(True)"
   ]
  },
  {
   "cell_type": "code",
   "execution_count": 92,
   "metadata": {},
   "outputs": [
    {
     "data": {
      "text/plain": [
       "<matplotlib.legend.Legend at 0x1f0d3e7ba90>"
      ]
     },
     "execution_count": 92,
     "metadata": {},
     "output_type": "execute_result"
    },
    {
     "data": {
      "image/png": "[encoded data removed]",
      "text/plain": [
       "<Figure size 864x576 with 1 Axes>"
      ]
     },
     "metadata": {
      "needs_background": "light"
     },
     "output_type": "display_data"
    }
   ],
   "source": [
    "plt.figure(figsize=(12, 8))\n",
    "plt.plot(erroRelativoMachinFormula, 'x--')\n",
    "plt.plot(erroRelativoHuttonFormula, 'o--')\n",
    "plt.plot(erroRelativoClausenFormula, 'v--')\n",
    "plt.plot(erroRelativoDaseFormula)\n",
    "plt.legend(['Machin', 'Hutton', 'Clausen', 'Dase'])"
   ]
  },
  {
   "cell_type": "markdown",
   "metadata": {},
   "source": [
    "Os resultados dos cálculos de erros relativos são extremamente próximos, mas é possível notar que utilizando a fórmula de Machin, o erro relativo tende a zero mais rapidamente."
   ]
  }
 ],
 "metadata": {
  "interpreter": {
   "hash": "ad2bdc8ecc057115af97d19610ffacc2b4e99fae6737bb82f5d7fb13d2f2c186"
  },
  "kernelspec": {
   "display_name": "Python 3.9.7 ('base')",
   "language": "python",
   "name": "python3"
  },
  "language_info": {
   "codemirror_mode": {
    "name": "ipython",
    "version": 3
   },
   "file_extension": ".py",
   "mimetype": "text/x-python",
   "name": "python",
   "nbconvert_exporter": "python",
   "pygments_lexer": "ipython3",
   "version": "3.9.7"
  }
 },
 "nbformat": 4,
 "nbformat_minor": 4
}
